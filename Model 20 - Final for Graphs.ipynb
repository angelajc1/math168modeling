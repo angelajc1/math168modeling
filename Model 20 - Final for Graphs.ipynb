{
 "cells": [
  {
   "cell_type": "code",
   "execution_count": 2,
   "id": "5f368d2b",
   "metadata": {},
   "outputs": [],
   "source": [
    "import networkx as nx\n",
    "import matplotlib.pyplot as plt\n",
    "import pandas as pd\n",
    "import numpy as np\n",
    "import csv\n",
    "import math\n",
    "import seaborn as sb\n",
    "from sklearn import preprocessing"
   ]
  },
  {
   "cell_type": "markdown",
   "id": "61061c38",
   "metadata": {},
   "source": [
    "Total_cases_CA_origin_Alameda_graph is the same as Total_cases_CA_origin_Alameda, but with Contra Costa removed due to a computation error.\n",
    "\n",
    "Simulation Results is manually made from Model 19 simulation results.\n"
   ]
  },
  {
   "cell_type": "markdown",
   "id": "62a294ed",
   "metadata": {},
   "source": [
    "## Comparing Total Infection: Model vs Real Data\n",
    "\n",
    "<div class=\"alert alert-block alert-success\">\n",
    "Creating Figure 7"
   ]
  },
  {
   "cell_type": "code",
   "execution_count": 3,
   "id": "987348f6",
   "metadata": {},
   "outputs": [
    {
     "data": {
      "text/html": [
       "<div>\n",
       "<style scoped>\n",
       "    .dataframe tbody tr th:only-of-type {\n",
       "        vertical-align: middle;\n",
       "    }\n",
       "\n",
       "    .dataframe tbody tr th {\n",
       "        vertical-align: top;\n",
       "    }\n",
       "\n",
       "    .dataframe thead th {\n",
       "        text-align: right;\n",
       "    }\n",
       "</style>\n",
       "<table border=\"1\" class=\"dataframe\">\n",
       "  <thead>\n",
       "    <tr style=\"text-align: right;\">\n",
       "      <th></th>\n",
       "      <th>Unnamed: 0</th>\n",
       "      <th>Total population</th>\n",
       "      <th>Total Commuters</th>\n",
       "      <th>Non-infected</th>\n",
       "      <th>Infected (Work)</th>\n",
       "      <th>Infected (Quarantine) / Recovered</th>\n",
       "      <th>Total Check</th>\n",
       "      <th>Total Infected</th>\n",
       "    </tr>\n",
       "  </thead>\n",
       "  <tbody>\n",
       "    <tr>\n",
       "      <th>0</th>\n",
       "      <td>0</td>\n",
       "      <td>17172689</td>\n",
       "      <td>17172683</td>\n",
       "      <td>17172081</td>\n",
       "      <td>602</td>\n",
       "      <td>6</td>\n",
       "      <td>17172689</td>\n",
       "      <td>608</td>\n",
       "    </tr>\n",
       "    <tr>\n",
       "      <th>1</th>\n",
       "      <td>1</td>\n",
       "      <td>17172689</td>\n",
       "      <td>17172322</td>\n",
       "      <td>17167653</td>\n",
       "      <td>4669</td>\n",
       "      <td>367</td>\n",
       "      <td>17172689</td>\n",
       "      <td>5036</td>\n",
       "    </tr>\n",
       "  </tbody>\n",
       "</table>\n",
       "</div>"
      ],
      "text/plain": [
       "   Unnamed: 0  Total population  Total Commuters  Non-infected  \\\n",
       "0           0          17172689         17172683      17172081   \n",
       "1           1          17172689         17172322      17167653   \n",
       "\n",
       "   Infected (Work)  Infected (Quarantine) / Recovered  Total Check  \\\n",
       "0              602                                  6     17172689   \n",
       "1             4669                                367     17172689   \n",
       "\n",
       "   Total Infected  \n",
       "0             608  \n",
       "1            5036  "
      ]
     },
     "execution_count": 3,
     "metadata": {},
     "output_type": "execute_result"
    }
   ],
   "source": [
    "total = pd.read_excel('Model 19 - Total_cases_CA_origin_Alameda_graph.xls')\n",
    "total.head(2)"
   ]
  },
  {
   "cell_type": "code",
   "execution_count": 4,
   "id": "8a58909c",
   "metadata": {},
   "outputs": [],
   "source": [
    "total_CA = pd.read_excel('covid_cumulative.xlsx')\n",
    "total_CA_half = total_CA.iloc[0:50]\n"
   ]
  },
  {
   "cell_type": "code",
   "execution_count": 5,
   "id": "50768d36",
   "metadata": {},
   "outputs": [
    {
     "data": {
      "text/plain": [
       "<matplotlib.legend.Legend at 0x19114408700>"
      ]
     },
     "execution_count": 5,
     "metadata": {},
     "output_type": "execute_result"
    },
    {
     "data": {
      "image/png": "[encoded data removed]",
      "text/plain": [
       "<Figure size 432x288 with 1 Axes>"
      ]
     },
     "metadata": {
      "needs_background": "light"
     },
     "output_type": "display_data"
    }
   ],
   "source": [
    "\n",
    "overview = sb.scatterplot(data = total,\n",
    "             x = list(total.index),\n",
    "               y = \"Total Infected\", lw = 3,color = 'blue')\n",
    "\n",
    "overview = sb.scatterplot(data = total_CA_half,\n",
    "             x = list(total.index),\n",
    "               y = \"Cases\", lw = 3, color = 'red')\n",
    "\n",
    "\n",
    "plt.xlabel(\"Timestamps\")\n",
    "plt.ylabel(\"Total Infection\")\n",
    "overview.set(title = \"Total COVID-19 Cases in California after 50 days\")\n",
    "plt.legend(labels=[\"Model\",\"Actual Covid Cases\"])\n"
   ]
  },
  {
   "cell_type": "markdown",
   "id": "cc76520d",
   "metadata": {},
   "source": [
    "## Eigencentrality Compare\n",
    "(Not included in the paper)"
   ]
  },
  {
   "cell_type": "code",
   "execution_count": 6,
   "id": "6f4442e5",
   "metadata": {},
   "outputs": [],
   "source": [
    "EV_data = {'Alameda County': 0.00029163334328798015, \n",
    " 'El Dorado County': 3.253241174409117e-05, 'Fresno County': 0.00013312909405440202, \n",
    " 'Humboldt County': 4.33910467479168e-05, 'Kern County': 0.0019524716807333981, \n",
    " 'Lake County': 2.7493019837103954e-05, 'Los Angeles County': 0.9977599687972114, \n",
    " 'Marin County': 3.954605715843731e-05, 'Mendocino County': 1.0859041046835566e-05, \n",
    " 'Merced County': 4.2556010385738395e-05, 'Monterey County': 0.0001262010993998445, \n",
    " 'Napa County': 1.4066942968877335e-05, 'Nevada County': 1.6365082295874413e-05, \n",
    " 'Orange County': 0.06411952565661373, 'Placer County': 4.16337820556807e-05, \n",
    " 'Riverside County': 0.00455414678018167, 'Sacramento County': 0.00018633712786665687, \n",
    " 'San Benito County': 8.97026927644296e-06, 'San Bernardino County': 0.015561100328349158, \n",
    " 'San Diego County': 0.0024406059708382243, 'San Francisco County': 0.0003915567217190359, \n",
    " 'San Joaquin County': 4.5775181946655965e-05, 'San Luis Obispo County': 5.7207413343249076e-05, \n",
    " 'San Mateo County': 0.00019074026869194107, 'Santa Barbara County': 0.0005646953486247942, \n",
    " 'Santa Clara County': 0.0004435751289318767, 'Santa Cruz County': 3.276209029314852e-05, \n",
    " 'Shasta County': 4.004481290901418e-06, 'Solano County': 1.746103976061137e-05, \n",
    " 'Sonoma County': 6.873107320974113e-05, 'Stanislaus County': 4.729788561153936e-05, \n",
    " 'Sutter County': 2.44921306816305e-07, 'Tehama County': 2.4737684714786473e-06, \n",
    " 'Tuolumne County': 4.353146280499372e-06, 'Ventura County': 0.009495802110766212, \n",
    " 'Yolo County': 3.3301261525480734e-05, 'Yuba County': 4.8820228296903595e-06, \n",
    " 'Alpine County': 2.719721114407979e-07, 'Amador County': 2.740157354407084e-06, \n",
    " 'Butte County': 1.5512571299454484e-05, 'Calaveras County': 8.264669208834885e-06, \n",
    " 'Tulare County': 7.652589783956847e-05, 'Colusa County': 3.2137668195407654e-06, \n",
    " 'Glenn County': 7.20373815324321e-08, 'Imperial County': 5.467072735801512e-05, \n",
    " 'Kings County': 2.222649709234556e-05, 'Lassen County': 2.3314846886927704e-08, \n",
    " 'Modoc County': 1.5049039362327743e-09, 'Plumas County': 7.924279893305507e-06, \n",
    " 'Siskiyou County': 1.9433598866794084e-06, 'Trinity County': 1.1737220933156295e-07, \n",
    " 'Madera County': 1.799018961974461e-05, 'Mariposa County': 3.878141632742585e-06, \n",
    " 'Mono County': 2.1502301983456238e-05, 'Del Norte County': 1.3730657161859155e-07, \n",
    " 'Inyo County': 2.4408860055501546e-05, 'Sierra County': 9.666965858226397e-07}"
   ]
  },
  {
   "cell_type": "code",
   "execution_count": 10,
   "id": "3afb7ae8",
   "metadata": {},
   "outputs": [],
   "source": [
    "df_EV = pd.DataFrame(\n",
    "    [{\"County\": County, \"count\": value} for (County), value in EV_data.items()])\n"
   ]
  },
  {
   "cell_type": "code",
   "execution_count": 12,
   "id": "89067abb",
   "metadata": {},
   "outputs": [
    {
     "data": {
      "text/html": [
       "<div>\n",
       "<style scoped>\n",
       "    .dataframe tbody tr th:only-of-type {\n",
       "        vertical-align: middle;\n",
       "    }\n",
       "\n",
       "    .dataframe tbody tr th {\n",
       "        vertical-align: top;\n",
       "    }\n",
       "\n",
       "    .dataframe thead th {\n",
       "        text-align: right;\n",
       "    }\n",
       "</style>\n",
       "<table border=\"1\" class=\"dataframe\">\n",
       "  <thead>\n",
       "    <tr style=\"text-align: right;\">\n",
       "      <th></th>\n",
       "      <th>County</th>\n",
       "      <th>Cases</th>\n",
       "    </tr>\n",
       "  </thead>\n",
       "  <tbody>\n",
       "    <tr>\n",
       "      <th>0</th>\n",
       "      <td>Alameda County</td>\n",
       "      <td>16021482</td>\n",
       "    </tr>\n",
       "  </tbody>\n",
       "</table>\n",
       "</div>"
      ],
      "text/plain": [
       "           County     Cases\n",
       "0  Alameda County  16021482"
      ]
     },
     "execution_count": 12,
     "metadata": {},
     "output_type": "execute_result"
    }
   ],
   "source": [
    "total_sim = pd.read_excel('Model 19 - Simulation Results.xlsx')\n",
    "total_sim.head(1)"
   ]
  },
  {
   "cell_type": "code",
   "execution_count": 16,
   "id": "4c0b4bfd",
   "metadata": {},
   "outputs": [
    {
     "data": {
      "text/plain": [
       "<AxesSubplot:xlabel='count', ylabel='Cases'>"
      ]
     },
     "execution_count": 16,
     "metadata": {},
     "output_type": "execute_result"
    },
    {
     "data": {
      "image/png": "[encoded data removed]",
      "text/plain": [
       "<Figure size 432x288 with 1 Axes>"
      ]
     },
     "metadata": {
      "needs_background": "light"
     },
     "output_type": "display_data"
    }
   ],
   "source": [
    "horizontal_concat = pd.concat([df_EV[[\"count\"]], total_sim[[\"Cases\"]]], axis=1)\n",
    "\n",
    "sb.scatterplot(data = horizontal_concat, x=\"count\", y=\"Cases\")"
   ]
  },
  {
   "cell_type": "markdown",
   "id": "11de463c",
   "metadata": {},
   "source": [
    "## PageRank centrality Compare\n",
    "\n",
    "<div class=\"alert alert-block alert-success\">\n",
    "Creating Figure 9\n"
   ]
  },
  {
   "cell_type": "code",
   "execution_count": 19,
   "id": "63cc6c82",
   "metadata": {},
   "outputs": [
    {
     "data": {
      "text/plain": [
       "Text(0, 0.5, 'Total COVID-19 cases')"
      ]
     },
     "execution_count": 19,
     "metadata": {},
     "output_type": "execute_result"
    },
    {
     "data": {
      "image/png": "[encoded data removed]",
      "text/plain": [
       "<Figure size 432x288 with 1 Axes>"
      ]
     },
     "metadata": {
      "needs_background": "light"
     },
     "output_type": "display_data"
    }
   ],
   "source": [
    "PR_data = {'Alameda County': 0.03264036723605933, 'El Dorado County': 0.010704172387633085, 'Fresno County': 0.030565037383362616, 'Humboldt County': 0.021603789759986326, 'Kern County': 0.019609278490869332, 'Lake County': 0.008090804219284004, 'Los Angeles County': 0.04761324951481759, 'Marin County': 0.01236376091069594, 'Mendocino County': 0.015088780823087336, 'Merced County': 0.010194262633839114, 'Monterey County': 0.017069998844419433, 'Napa County': 0.01285730989721099, 'Nevada County': 0.012315743263451358, 'Orange County': 0.02079276669220669, 'Placer County': 0.019730402110263893, 'Riverside County': 0.010108131664103662, 'Sacramento County': 0.05851131890490186, 'San Benito County': 0.00503615045379986, 'San Bernardino County': 0.011045730579955358, 'San Diego County': 0.02161152401648525, 'San Francisco County': 0.05054462512952155, 'San Joaquin County': 0.017697957509930695, 'San Luis Obispo County': 0.014464506841955644, 'San Mateo County': 0.026037640637419916, 'Santa Barbara County': 0.01869902004496534, 'Santa Clara County': 0.06814159981626151, 'Santa Cruz County': 0.011954079185662136, 'Shasta County': 0.02506994384315172, 'Solano County': 0.011296839209453288, 'Sonoma County': 0.016640117128401768, 'Stanislaus County': 0.01566688895574646, 'Sutter County': 0.009399644907365891, 'Tehama County': 0.009333472334566668, 'Tuolumne County': 0.012624105647153576, 'Ventura County': 0.0095938419605344, 'Yolo County': 0.016476804199937543, 'Yuba County': 0.008048862119007226, 'Alpine County': 0.006020085154278915, 'Amador County': 0.007672742633323374, 'Butte County': 0.02441180594336775, 'Calaveras County': 0.006250829226803081, 'Tulare County': 0.014728003024328576, 'Colusa County': 0.009444222186327018, 'Glenn County': 0.007896325672331886, 'Imperial County': 0.013250465564150904, 'Kings County': 0.010365358963169148, 'Lassen County': 0.017629080359035335, 'Modoc County': 0.010856400007098933, 'Plumas County': 0.014892520482749002, 'Siskiyou County': 0.019418396130150697, 'Trinity County': 0.011538480289238658, 'Madera County': 0.009366983892177584, 'Mariposa County': 0.007138047327620283, 'Mono County': 0.016549091236674238, 'Del Norte County': 0.016418556424815097, 'Inyo County': 0.014923409500536073, 'Sierra County': 0.0071871033150087}\n",
    "\n",
    "df_PR = pd.DataFrame(\n",
    "    [{\"County\": County, \"count\": value} for (County), value in PR_data.items()])\n",
    "df_PR\n",
    "\n",
    "total_sim = pd.read_excel('Model 19 - Simulation Results.xlsx')\n",
    "total_sim\n",
    "\n",
    "horizontal_concat2 = pd.concat([df_PR[[\"count\"]], total_sim[[\"Cases\"]]], axis=1)\n",
    "\n",
    "plot = sb.regplot(data = horizontal_concat2, x=\"count\", y=\"Cases\").set(title = \"Total COVID-19 cases vs PageRank Centrality\")\n",
    "plt.xlabel(\"PageRank Centrality\")\n",
    "plt.ylabel(\"Total COVID-19 cases\")\n"
   ]
  }
 ],
 "metadata": {
  "kernelspec": {
   "display_name": "Python 3 (ipykernel)",
   "language": "python",
   "name": "python3"
  },
  "language_info": {
   "codemirror_mode": {
    "name": "ipython",
    "version": 3
   },
   "file_extension": ".py",
   "mimetype": "text/x-python",
   "name": "python",
   "nbconvert_exporter": "python",
   "pygments_lexer": "ipython3",
   "version": "3.9.7"
  }
 },
 "nbformat": 4,
 "nbformat_minor": 5
}
